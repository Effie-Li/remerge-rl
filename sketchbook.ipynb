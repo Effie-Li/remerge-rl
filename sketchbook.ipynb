{
 "cells": [
  {
   "cell_type": "code",
   "execution_count": 1,
   "metadata": {},
   "outputs": [],
   "source": [
    "from gym_minigrid.wrappers import *\n",
    "from env import *\n",
    "from memory import *\n",
    "from agent import DQN\n",
    "\n",
    "import pickle\n",
    "import random\n",
    "import numpy as np\n",
    "import torch\n",
    "import torch.nn as nn\n",
    "import torch.nn.functional as F\n",
    "from torch.utils.tensorboard import SummaryWriter\n",
    "import matplotlib.pyplot as plt\n",
    "from itertools import count\n",
    "\n",
    "device = torch.device(\"cuda:5\")\n",
    "\n",
    "class RandomAgent:\n",
    "    def __init__(self, action_dim):\n",
    "        self.action_dim = action_dim\n",
    "    \n",
    "    def step(self, observation=None):\n",
    "        return np.random.randint(self.action_dim)\n",
    "\n",
    "# [1,2,\n",
    "#  3,4]\n",
    "# 0-up, 1-right, 2-down, 3-left\n",
    "\n",
    "# seed=32 for fourrooms in main.py"
   ]
  },
  {
   "cell_type": "markdown",
   "metadata": {},
   "source": [
    "### env related stuff"
   ]
  },
  {
   "cell_type": "code",
   "execution_count": 2,
   "metadata": {},
   "outputs": [],
   "source": [
    "# 0-left, 1-down, 2-right, 3-up OR\n",
    "# 0-up, 1-right, 2-down, 3-left?"
   ]
  },
  {
   "cell_type": "code",
   "execution_count": 2,
   "metadata": {},
   "outputs": [],
   "source": [
    "from main import train, test"
   ]
  },
  {
   "cell_type": "code",
   "execution_count": 3,
   "metadata": {},
   "outputs": [],
   "source": [
    "task = EmptyGridTask(size=19,task_type='random-1-4-8-12',goalcond=True)\n",
    "task.set_phase('test')\n",
    "memory = RemergeMemory(hidden_size=3000, state_size=3000)\n",
    "agent = DQN(state_dim=4,\n",
    "            action_dim=4, \n",
    "            goalcond=True, \n",
    "            device=device, \n",
    "            memory=memory)\n",
    "x = test(task, agent, num_episodes=10, use_remerge=False, max_steps=20, remember=True, explore=True)"
   ]
  },
  {
   "cell_type": "code",
   "execution_count": 4,
   "metadata": {},
   "outputs": [
    {
     "data": {
      "text/plain": [
       "{'n_step': array([20., 20., 20., 20., 20., 20.]),\n",
       " 'solved': array([0., 0., 0., 0., 0., 0.]),\n",
       " 'reward': array([0., 0., 0., 0., 0., 0.]),\n",
       " 'excess_steps': array([11., 11., 12.,  8., 12., 12.])}"
      ]
     },
     "execution_count": 4,
     "metadata": {},
     "output_type": "execute_result"
    }
   ],
   "source": [
    "test(task,\n",
    "         agent,\n",
    "         use_remerge=True,\n",
    "         replan_prob=0.5, # TODO: change based on t\n",
    "         subgoal_advance_prob=0.2,\n",
    "         switch_goal_prob=0.5,\n",
    "         plan_steps_test=4,\n",
    "         recurrent_T_test=10,\n",
    "         num_episodes=6,\n",
    "         max_steps=20,\n",
    "         remember=False,\n",
    "         explore=True)"
   ]
  },
  {
   "cell_type": "code",
   "execution_count": null,
   "metadata": {},
   "outputs": [],
   "source": []
  },
  {
   "cell_type": "code",
   "execution_count": null,
   "metadata": {},
   "outputs": [],
   "source": []
  },
  {
   "cell_type": "code",
   "execution_count": 35,
   "metadata": {},
   "outputs": [],
   "source": [
    "task = FourRoomsTask(task_type='random',\n",
    "                     reward_type='sparse', \n",
    "                     goalcond=True, \n",
    "                     seed=32)\n",
    "# task.set_phase('test')\n",
    "obs = task.reset()"
   ]
  },
  {
   "cell_type": "code",
   "execution_count": 46,
   "metadata": {},
   "outputs": [],
   "source": [
    "# task = task.clone()\n",
    "obs = task.reset()"
   ]
  },
  {
   "cell_type": "code",
   "execution_count": 51,
   "metadata": {},
   "outputs": [
    {
     "name": "stdout",
     "output_type": "stream",
     "text": [
      "-1.0 False\n"
     ]
    }
   ],
   "source": [
    "# 0-left, 1-down, 2-right, 3-up\n",
    "obs, r, done, _ = task.step(2)\n",
    "print(r, done)"
   ]
  },
  {
   "cell_type": "code",
   "execution_count": 51,
   "metadata": {},
   "outputs": [
    {
     "data": {
      "image/png": "[encoded data removed]",
      "text/plain": [
       "<Figure size 432x288 with 2 Axes>"
      ]
     },
     "metadata": {
      "needs_background": "light"
     },
     "output_type": "display_data"
    }
   ],
   "source": [
    "fig, axes = plt.subplots(1,2)\n",
    "axes[0].imshow(obs['image'][0])\n",
    "axes[1].imshow(obs['goal'][0])\n",
    "axes[0].set_title('start')\n",
    "axes[1].set_title('goal')\n",
    "axes[0].get_xaxis().set_visible(False)\n",
    "axes[0].get_yaxis().set_visible(False)\n",
    "axes[1].get_xaxis().set_visible(False)\n",
    "axes[1].get_yaxis().set_visible(False)\n",
    "fig.savefig('4r.pdf')"
   ]
  },
  {
   "cell_type": "code",
   "execution_count": null,
   "metadata": {},
   "outputs": [],
   "source": []
  },
  {
   "cell_type": "code",
   "execution_count": 87,
   "metadata": {},
   "outputs": [
    {
     "data": {
      "text/plain": [
       "0.10168855323143527"
      ]
     },
     "execution_count": 87,
     "metadata": {},
     "output_type": "execute_result"
    }
   ],
   "source": [
    "0.05 + (0.9 - 0.05) * \\\n",
    "    math.exp(-1. * 700 / 250)"
   ]
  },
  {
   "cell_type": "markdown",
   "metadata": {},
   "source": [
    "#### memory related stuff"
   ]
  },
  {
   "cell_type": "code",
   "execution_count": 1,
   "metadata": {},
   "outputs": [],
   "source": [
    "from gym_minigrid.wrappers import *\n",
    "from env import *\n",
    "from memory import *\n",
    "from agent import DQN\n",
    "\n",
    "import pickle\n",
    "import random\n",
    "import numpy as np\n",
    "import torch\n",
    "import torch.nn as nn\n",
    "import torch.nn.functional as F\n",
    "from torch.utils.tensorboard import SummaryWriter\n",
    "import matplotlib.pyplot as plt\n",
    "from itertools import count\n",
    "\n",
    "device = torch.device(\"cuda:5\")\n",
    "\n",
    "class RandomAgent:\n",
    "    def __init__(self, action_dim):\n",
    "        self.action_dim = action_dim\n",
    "    \n",
    "    def step(self, observation=None):\n",
    "        return np.random.randint(self.action_dim)\n",
    "\n",
    "# [1,2,\n",
    "#  3,4]\n",
    "# 0-up, 1-right, 2-down, 3-left\n",
    "\n",
    "# seed=32 for fourrooms in main.py"
   ]
  },
  {
   "cell_type": "code",
   "execution_count": 2,
   "metadata": {},
   "outputs": [],
   "source": [
    "np.set_printoptions(precision=2)"
   ]
  },
  {
   "cell_type": "code",
   "execution_count": 3,
   "metadata": {},
   "outputs": [],
   "source": [
    "task = EmptyGridTask(size=19,\n",
    "                     task_type='random-1-4-5-8',\n",
    "                     reward_type='sparse',\n",
    "                     goalcond=True)\n",
    "ra = RandomAgent(4)"
   ]
  },
  {
   "cell_type": "code",
   "execution_count": 4,
   "metadata": {},
   "outputs": [],
   "source": [
    "def gen_maze(pos):\n",
    "    grid = np.array(task.env.grid.grid.copy())\n",
    "    wall_mask = np.array([x is not None for x in grid])\n",
    "    grid[wall_mask] = 1.0 # walls\n",
    "    grid[~wall_mask] = 0.0 # open space\n",
    "    grid = grid.reshape(19, 19).astype(np.float)\n",
    "    grid[-2,-2] = 0.0 # overwrite default goal\n",
    "    grid[pos[0], pos[1]] = 2.0 # agent\n",
    "    \n",
    "    return grid"
   ]
  },
  {
   "cell_type": "code",
   "execution_count": 9,
   "metadata": {},
   "outputs": [
    {
     "name": "stdout",
     "output_type": "stream",
     "text": [
      "softmax:  ['0.12', '0.12', '0.12', '0.12', '0.12', '0.12', '0.15', '0.15']\n",
      "logistic:  ['0.00', '0.00', '0.00', '0.00', '0.01', '0.01', '0.06', '0.06']\n"
     ]
    }
   ],
   "source": [
    "tau = 4.0\n",
    "\n",
    "netin = [0., 0., 0.01, 0.01, 0.1, 0.1, 1., 1.]\n",
    "denom = np.sum([np.exp(x/tau) for x in netin])\n",
    "act = np.array([np.exp(x/tau)/denom for x in netin])\n",
    "print('softmax: ', ['%.2f'% x for x in act])\n",
    "act = np.array([1/(1+np.exp(-x/tau)) for x in netin]) - 0.5\n",
    "print('logistic: ', ['%.2f'% x for x in act])"
   ]
  },
  {
   "cell_type": "code",
   "execution_count": 14,
   "metadata": {},
   "outputs": [],
   "source": [
    "grid = np.array(task.env.grid.grid.copy())\n",
    "wall_mask = np.array([x is not None for x in grid])\n",
    "grid[wall_mask] = 1.0 # walls\n",
    "grid[~wall_mask] = 0.0 # open space\n",
    "grid = grid.reshape(19, 19).astype(np.float)"
   ]
  },
  {
   "cell_type": "code",
   "execution_count": 17,
   "metadata": {},
   "outputs": [
    {
     "data": {
      "text/plain": [
       "(19, 19)"
      ]
     },
     "execution_count": 17,
     "metadata": {},
     "output_type": "execute_result"
    }
   ],
   "source": [
    "grid.shape"
   ]
  },
  {
   "cell_type": "code",
   "execution_count": 11,
   "metadata": {},
   "outputs": [],
   "source": [
    "# collect some random transitions for prototyping\n",
    "# 19*19*4*2=2888 unique links\n",
    "\n",
    "attrnet_kwargs = {'raw_excite_weight':1.0,\n",
    "                  'raw_inhibit_weight':0.0,\n",
    "                  'weight_scale':1.0,\n",
    "                  'i_tau':0.04,\n",
    "                  'h_tau':0.04,\n",
    "                  'h_C':0.,\n",
    "                  'lmda':0.1,\n",
    "                  'ext':0.2}\n",
    "memory = RemergeMemory(hidden_size=3000, state_size=3000, **attrnet_kwargs)\n",
    "# memory.links = pickle.load(open('all_links.pkl', 'rb'))\n",
    "# memory.all_states = pickle.load(open('all_states.pkl', 'rb'))\n",
    "# memory.attractor_network.weights = pickle.load(open('attrnet_weights.pkl','rb'))\n",
    "\n",
    "obs = task.reset()\n",
    "state = obs['state']\n",
    "\n",
    "# for i in range(19):\n",
    "#     for j in range(19):\n",
    "#         if grid[i,j] == 1.0:\n",
    "#             continue\n",
    "#         s = [i,j]\n",
    "#         for a in range(4):\n",
    "#             if a==0:\n",
    "#                 ns = [i-1, j]\n",
    "#             if a==1:\n",
    "#                 ns = [i+1, j]\n",
    "#             if a==2:\n",
    "#                 ns = [i, j-1]\n",
    "#             if a==3:\n",
    "#                 ns = [i, j+1]\n",
    "#             if (ns[0]>=0) and (ns[1]>=0) and (ns[0]<19) and (ns[1]<19):\n",
    "#                 if grid[ns[0],ns[1]] == 0.0:\n",
    "#                     memory.add(s, a, 0, ns, goal=None)\n",
    "\n",
    "for _ in range(1000):\n",
    "    \n",
    "    action = ra.step()\n",
    "    next_obs, reward, done, _ = task.step(action)\n",
    "    next_state = next_obs['state']\n",
    "\n",
    "    if done:\n",
    "        next_state = None\n",
    "\n",
    "    memory.add(state, action, reward, next_state, goal=None)\n",
    "    \n",
    "    if done:\n",
    "        obs = task.reset()\n",
    "        state = obs['state']\n",
    "    else:\n",
    "        state = next_state"
   ]
  },
  {
   "cell_type": "code",
   "execution_count": 12,
   "metadata": {},
   "outputs": [
    {
     "name": "stdout",
     "output_type": "stream",
     "text": [
      "424\n"
     ]
    }
   ],
   "source": [
    "print(len(memory.links))"
   ]
  },
  {
   "cell_type": "code",
   "execution_count": 13,
   "metadata": {},
   "outputs": [
    {
     "name": "stdout",
     "output_type": "stream",
     "text": [
      "169\n"
     ]
    }
   ],
   "source": [
    "print(len(memory.all_states))"
   ]
  },
  {
   "cell_type": "code",
   "execution_count": 14,
   "metadata": {},
   "outputs": [],
   "source": [
    "task.set_phase('test')"
   ]
  },
  {
   "cell_type": "code",
   "execution_count": 15,
   "metadata": {},
   "outputs": [
    {
     "data": {
      "text/plain": [
       "{'state': array([12, 14]), 'goal': array([14, 10]), 'optim_step': 6}"
      ]
     },
     "execution_count": 15,
     "metadata": {},
     "output_type": "execute_result"
    }
   ],
   "source": [
    "obs = task.reset()\n",
    "obs"
   ]
  },
  {
   "cell_type": "code",
   "execution_count": 23,
   "metadata": {},
   "outputs": [],
   "source": [
    "memory.attractor_network.i_tau = 0.04\n",
    "memory.attractor_network.h_tau = 0.04\n",
    "memory.attractor_network.ext = 0.5\n",
    "memory.attractor_network.lmda = 0.5"
   ]
  },
  {
   "cell_type": "code",
   "execution_count": 25,
   "metadata": {},
   "outputs": [
    {
     "data": {
      "text/plain": [
       "[[6, 2], [6, 1], [6, 2], [7, 2], [6, 8], [6, 7]]"
      ]
     },
     "execution_count": 25,
     "metadata": {},
     "output_type": "execute_result"
    }
   ],
   "source": [
    "memory.plan(s_probe=obs['state'], ns_probe=obs['goal'], \n",
    "            plan_steps=obs['optim_step']-1, T=10, mode='sample')"
   ]
  },
  {
   "cell_type": "code",
   "execution_count": 24,
   "metadata": {},
   "outputs": [
    {
     "data": {
      "text/plain": [
       "[[6, 2], [6, 1], [6, 2], [7, 2], [6, 8], [6, 7]]"
      ]
     },
     "execution_count": 24,
     "metadata": {},
     "output_type": "execute_result"
    }
   ],
   "source": [
    "memory.plan(s_probe=obs['state'], ns_probe=obs['goal'], \n",
    "            plan_steps=obs['optim_step']-1, T=20, mode='sample')"
   ]
  },
  {
   "cell_type": "code",
   "execution_count": 19,
   "metadata": {},
   "outputs": [
    {
     "data": {
      "text/plain": [
       "[[10, 16], [7, 14], [5, 13], [7, 4], [14, 4], [14, 9]]"
      ]
     },
     "execution_count": 19,
     "metadata": {},
     "output_type": "execute_result"
    }
   ],
   "source": [
    "memory.plan(s_probe=obs['state'], ns_probe=obs['goal'], \n",
    "            plan_steps=obs['optim_step']-1, T=50, mode='sample')"
   ]
  },
  {
   "cell_type": "code",
   "execution_count": 20,
   "metadata": {},
   "outputs": [
    {
     "data": {
      "text/plain": [
       "[[4, 8], [16, 13], [13, 3], [4, 15], [1, 11], [14, 13]]"
      ]
     },
     "execution_count": 20,
     "metadata": {},
     "output_type": "execute_result"
    }
   ],
   "source": [
    "memory.plan(s_probe=obs['state'], ns_probe=obs['goal'], \n",
    "            plan_steps=obs['optim_step']-1, T=100, mode='sample')"
   ]
  },
  {
   "cell_type": "code",
   "execution_count": 33,
   "metadata": {},
   "outputs": [
    {
     "name": "stdout",
     "output_type": "stream",
     "text": [
      "tensor([[1., 1., 1., 1.],\n",
      "        [1., 1., 1., 1.],\n",
      "        [1., 1., 1., 1.]])\n",
      "tensor([[1., 1., 1., 1.],\n",
      "        [1., 1., 1., 1.],\n",
      "        [1., 1., 9., 1.]])\n"
     ]
    }
   ],
   "source": [
    "x = torch.ones((3,4))\n",
    "y = x.clone()\n",
    "y[2,2]=9\n",
    "print(x)\n",
    "print(y)"
   ]
  },
  {
   "cell_type": "code",
   "execution_count": null,
   "metadata": {},
   "outputs": [],
   "source": []
  },
  {
   "cell_type": "code",
   "execution_count": null,
   "metadata": {},
   "outputs": [],
   "source": [
    "'''\n",
    "{'state': array([ 7, 12]), 'goal': array([12, 11]), 'optim_step': 6}\n",
    "[array([ 8., 12.], dtype=float32),\n",
    " array([ 8., 11.], dtype=float32),\n",
    " array([ 9., 11.], dtype=float32),\n",
    " array([11., 10.], dtype=float32),\n",
    " array([11., 11.], dtype=float32)]\n",
    " \n",
    "{'state': array([6, 8]), 'goal': array([8, 5]), 'optim_step': 5}\n",
    "[array([6, 7]), array([6, 6]), array([6, 5]), array([7, 5])]\n",
    " \n",
    "'''"
   ]
  },
  {
   "cell_type": "code",
   "execution_count": null,
   "metadata": {},
   "outputs": [],
   "source": []
  },
  {
   "cell_type": "code",
   "execution_count": null,
   "metadata": {},
   "outputs": [],
   "source": []
  },
  {
   "cell_type": "code",
   "execution_count": 31,
   "metadata": {},
   "outputs": [
    {
     "data": {
      "text/plain": [
       "[array([ 5., 16.], dtype=float32),\n",
       " array([ 4., 16.], dtype=float32),\n",
       " array([ 5., 16.], dtype=float32),\n",
       " array([ 3., 13.], dtype=float32),\n",
       " array([ 2., 13.], dtype=float32)]"
      ]
     },
     "execution_count": 31,
     "metadata": {},
     "output_type": "execute_result"
    }
   ],
   "source": [
    "memory.plan(s_probe=obs['state'], ns_probe=obs['goal'], plan_steps=5, T=20, mode='max')"
   ]
  },
  {
   "cell_type": "code",
   "execution_count": null,
   "metadata": {},
   "outputs": [],
   "source": []
  },
  {
   "cell_type": "code",
   "execution_count": null,
   "metadata": {},
   "outputs": [],
   "source": []
  },
  {
   "cell_type": "code",
   "execution_count": null,
   "metadata": {},
   "outputs": [],
   "source": []
  },
  {
   "cell_type": "code",
   "execution_count": null,
   "metadata": {},
   "outputs": [],
   "source": [
    "'''\n",
    "{'state': array([11,  7]), 'goal': array([9, 2]), 'optim_step': 7}\n",
    "[array([11.,  8.], dtype=float32),\n",
    " array([10.,  8.], dtype=float32),\n",
    " array([10.,  3.], dtype=float32),\n",
    " array([9., 3.], dtype=float32)]\n",
    "\n",
    "{'state': array([ 4, 15]), 'goal': array([ 2, 10]), 'optim_step': 7}\n",
    "[array([ 4., 16.], dtype=float32),\n",
    " array([ 4., 15.], dtype=float32),\n",
    " array([ 2., 12.], dtype=float32),\n",
    " array([ 2., 11.], dtype=float32)]\n",
    "\n",
    "{'state': array([ 6, 13]), 'goal': array([ 2, 11]), 'optim_step': 6}\n",
    "[array([ 5., 13.], dtype=float32),\n",
    " array([ 5., 14.], dtype=float32),\n",
    " array([ 3., 12.], dtype=float32),\n",
    " array([ 2., 12.], dtype=float32)]\n",
    "\n",
    "{'state': array([13,  3]), 'goal': array([9, 2]), 'optim_step': 5}\n",
    "[array([14.,  3.], dtype=float32),\n",
    " array([13.,  3.], dtype=float32),\n",
    " array([10.,  3.], dtype=float32),\n",
    " array([9., 3.], dtype=float32)]\n",
    "\n",
    "{'state': array([8, 1]), 'goal': array([9, 5]), 'optim_step': 5}\n",
    "[array([9., 1.], dtype=float32),\n",
    " array([10.,  1.], dtype=float32),\n",
    " array([9., 1.], dtype=float32),\n",
    " array([9., 3.], dtype=float32),\n",
    " array([9., 4.], dtype=float32)]\n",
    " \n",
    " {'state': array([13,  9]), 'goal': array([11,  5]), 'optim_step': 6}\n",
    " [array([12.,  9.], dtype=float32),\n",
    " array([12., 10.], dtype=float32),\n",
    " array([12., 11.], dtype=float32),\n",
    " array([12.,  6.], dtype=float32),\n",
    " array([11.,  6.], dtype=float32)]\n",
    " \n",
    " {'state': array([14,  3]), 'goal': array([17,  6]), 'optim_step': 6}\n",
    " [array([14.,  4.], dtype=float32),\n",
    " array([14.,  3.], dtype=float32),\n",
    " array([14.,  4.], dtype=float32),\n",
    " array([16.,  5.], dtype=float32),\n",
    " array([17.,  5.], dtype=float32)]\n",
    " \n",
    " {'state': array([12, 10]), 'goal': array([ 9, 13]), 'optim_step': 6}\n",
    " [array([12., 11.], dtype=float32),\n",
    " array([11., 11.], dtype=float32),\n",
    " array([11., 12.], dtype=float32),\n",
    " array([ 7., 13.], dtype=float32),\n",
    " array([ 8., 13.], dtype=float32)]\n",
    "'''"
   ]
  },
  {
   "cell_type": "code",
   "execution_count": null,
   "metadata": {},
   "outputs": [],
   "source": [
    "{'state': array([8, 1]), 'goal': array([9, 5]), 'optim_step': 5}\n",
    "[array([9., 1.], dtype=float32),\n",
    " array([10.,  1.], dtype=float32),\n",
    " array([9., 1.], dtype=float32),\n",
    " array([9., 3.], dtype=float32),\n",
    " array([9., 4.], dtype=float32)]"
   ]
  },
  {
   "cell_type": "code",
   "execution_count": 137,
   "metadata": {},
   "outputs": [
    {
     "data": {
      "image/png": "[encoded data removed]",
      "text/plain": [
       "<Figure size 432x288 with 1 Axes>"
      ]
     },
     "metadata": {
      "needs_background": "light"
     },
     "output_type": "display_data"
    }
   ],
   "source": [
    "x = [9,5]\n",
    "\n",
    "fig, ax = plt.subplots(1)\n",
    "ax.imshow(gen_maze(x))\n",
    "ax.set_title(x)\n",
    "ax.get_xaxis().set_visible(False)\n",
    "ax.get_yaxis().set_visible(False)"
   ]
  },
  {
   "cell_type": "code",
   "execution_count": null,
   "metadata": {},
   "outputs": [],
   "source": []
  },
  {
   "cell_type": "code",
   "execution_count": null,
   "metadata": {},
   "outputs": [],
   "source": []
  },
  {
   "cell_type": "code",
   "execution_count": 362,
   "metadata": {},
   "outputs": [],
   "source": [
    "# need to double the size of transitions\n",
    "rmm = RemergeMemory(hidden_size=50, state_size=50)\n",
    "for x in memory.memory:\n",
    "    rmm.add(x.state, x.action, x.reward, x.next_state, x.goal)"
   ]
  },
  {
   "cell_type": "code",
   "execution_count": 363,
   "metadata": {},
   "outputs": [
    {
     "name": "stdout",
     "output_type": "stream",
     "text": [
      "link 0:  0 : [13. 11.] --> 1 : [13. 10.]\n",
      "link 1:  1 : [13. 10.] --> 2 : [14. 10.]\n",
      "link 2:  2 : [14. 10.] --> 1 : [13. 10.]\n",
      "link 3:  1 : [13. 10.] --> 3 : [12. 10.]\n",
      "link 4:  3 : [12. 10.] --> 4 : [12.  9.]\n",
      "link 5:  4 : [12.  9.] --> 5 : [12.  8.]\n",
      "link 6:  5 : [12.  8.] --> 6 : [12.  7.]\n",
      "link 7:  6 : [12.  7.] --> 7 : [13.  7.]\n",
      "link 8:  7 : [13.  7.] --> 8 : [13.  6.]\n",
      "link 9:  8 : [13.  6.] --> 9 : [13.  5.]\n",
      "link 10:  9 : [13.  5.] --> 10 : [12.  5.]\n",
      "link 11:  10 : [12.  5.] --> 11 : [11.  5.]\n",
      "link 12:  11 : [11.  5.] --> 12 : [11.  6.]\n",
      "link 13:  12 : [11.  6.] --> 11 : [11.  5.]\n",
      "link 14:  11 : [11.  5.] --> 13 : [10.  5.]\n",
      "link 15:  13 : [10.  5.] --> 14 : [9. 5.]\n",
      "link 16:  14 : [9. 5.] --> 15 : [9. 6.]\n",
      "link 17:  15 : [9. 6.] --> 16 : [9. 7.]\n",
      "link 18:  16 : [9. 7.] --> 17 : [8. 7.]\n",
      "link 19:  17 : [8. 7.] --> 16 : [9. 7.]\n",
      "link 20:  17 : [8. 7.] --> 18 : [7. 7.]\n",
      "link 21:  18 : [7. 7.] --> 19 : [7. 8.]\n",
      "link 22:  19 : [7. 8.] --> 18 : [7. 7.]\n",
      "link 23:  18 : [7. 7.] --> 17 : [8. 7.]\n",
      "link 24:  17 : [8. 7.] --> 20 : [8. 8.]\n",
      "link 25:  20 : [8. 8.] --> 19 : [7. 8.]\n",
      "link 26:  18 : [7. 7.] --> 21 : [6. 7.]\n",
      "link 27:  21 : [6. 7.] --> 22 : [6. 6.]\n",
      "link 28:  22 : [6. 6.] --> 23 : [5. 6.]\n",
      "link 29:  23 : [5. 6.] --> 24 : [5. 7.]\n",
      "link 30:  24 : [5. 7.] --> 23 : [5. 6.]\n",
      "link 31:  23 : [5. 6.] --> 22 : [6. 6.]\n",
      "link 32:  24 : [5. 7.] --> 25 : [4. 7.]\n",
      "link 33:  25 : [4. 7.] --> 24 : [5. 7.]\n",
      "link 34:  25 : [4. 7.] --> 26 : [4. 6.]\n",
      "link 35:  26 : [4. 6.] --> 25 : [4. 7.]\n",
      "link 36:  25 : [4. 7.] --> 27 : [3. 7.]\n",
      "link 37:  27 : [3. 7.] --> 28 : [2. 7.]\n",
      "link 38:  28 : [2. 7.] --> 29 : [2. 8.]\n",
      "link 39:  29 : [2. 8.] --> 30 : [1. 8.]\n",
      "link 40:  30 : [1. 8.] --> 31 : [1. 7.]\n",
      "link 41:  31 : [1. 7.] --> 32 : [1. 6.]\n",
      "link 42:  32 : [1. 6.] --> 33 : [2. 6.]\n"
     ]
    }
   ],
   "source": [
    "for i, l in enumerate(rmm.links):\n",
    "    print('link %d'%i, end=':  ')\n",
    "    s = l.state1\n",
    "    ns = l.state2\n",
    "    print(rmm.find_state(rmm.all_states, s),':',s, '-->', rmm.find_state(rmm.all_states, ns),':',ns)"
   ]
  },
  {
   "cell_type": "code",
   "execution_count": 369,
   "metadata": {},
   "outputs": [
    {
     "name": "stdout",
     "output_type": "stream",
     "text": [
      "14 : [9. 5.] 33 : [2. 6.]\n"
     ]
    }
   ],
   "source": [
    "s = rmm.links[16].state1\n",
    "g = rmm.links[42].state2\n",
    "print(rmm.find_state(rmm.all_states, s), ':', s, rmm.find_state(rmm.all_states, g), ':', g)"
   ]
  },
  {
   "cell_type": "code",
   "execution_count": 370,
   "metadata": {},
   "outputs": [
    {
     "name": "stdout",
     "output_type": "stream",
     "text": [
      "plan_indexes:  [15, 16, 31, 32]\n"
     ]
    }
   ],
   "source": [
    "np.set_printoptions(precision=2)\n",
    "plan = rmm.plan(s_probe=s, ns_probe=g, plan_steps=4, T=100, mode='sample')"
   ]
  },
  {
   "cell_type": "code",
   "execution_count": 359,
   "metadata": {},
   "outputs": [
    {
     "name": "stdout",
     "output_type": "stream",
     "text": [
      "plan_indexes:  [15, 16, 17, 18, 17, 18, 27, 28, 29, 30, 31, 32]\n"
     ]
    }
   ],
   "source": [
    "np.set_printoptions(precision=2)\n",
    "plan = rmm.plan(s_probe=s, ns_probe=g, plan_steps=12, T=100, mode='sample')"
   ]
  },
  {
   "cell_type": "code",
   "execution_count": null,
   "metadata": {},
   "outputs": [],
   "source": []
  }
 ],
 "metadata": {
  "kernelspec": {
   "display_name": "py37",
   "language": "python",
   "name": "py37"
  },
  "language_info": {
   "codemirror_mode": {
    "name": "ipython",
    "version": 3
   },
   "file_extension": ".py",
   "mimetype": "text/x-python",
   "name": "python",
   "nbconvert_exporter": "python",
   "pygments_lexer": "ipython3",
   "version": "3.7.6"
  }
 },
 "nbformat": 4,
 "nbformat_minor": 4
}
