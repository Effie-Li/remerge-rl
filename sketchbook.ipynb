{
 "cells": [
  {
   "cell_type": "code",
   "execution_count": 1,
   "metadata": {},
   "outputs": [],
   "source": [
    "from gym_minigrid.wrappers import *\n",
    "from env import *\n",
    "from memory import ReplayBuffer, RemergeMemory\n",
    "from agent import DQN\n",
    "\n",
    "import random\n",
    "import numpy as np\n",
    "import torch\n",
    "import torch.nn as nn\n",
    "import torch.nn.functional as F\n",
    "from torch.utils.tensorboard import SummaryWriter\n",
    "import matplotlib.pyplot as plt\n",
    "from itertools import count\n",
    "\n",
    "device = torch.device(\"cuda:4\")\n",
    "\n",
    "class RandomAgent:\n",
    "    def __init__(self, action_dim):\n",
    "        self.action_dim = action_dim\n",
    "    \n",
    "    def step(self, observation=None):\n",
    "        return np.random.randint(self.action_dim)\n",
    "\n",
    "# [1,2,\n",
    "#  3,4]\n",
    "# 0-up, 1-right, 2-down, 3-left"
   ]
  },
  {
   "cell_type": "markdown",
   "metadata": {},
   "source": [
    "### agent related stuff"
   ]
  },
  {
   "cell_type": "code",
   "execution_count": 2,
   "metadata": {},
   "outputs": [],
   "source": [
    "from main import train, test"
   ]
  },
  {
   "cell_type": "code",
   "execution_count": 3,
   "metadata": {},
   "outputs": [],
   "source": [
    "task = FourRoomsTask(task_type='fixed', \n",
    "                     agent_ini_pos=(2,2),\n",
    "                     goal_pos=(2,4),\n",
    "                     reward_type='sparse', \n",
    "                     goalcond=True, \n",
    "                     seed=32)\n",
    "obs = task.reset()\n",
    "memory = ReplayBuffer()\n",
    "agent = DQN(state_dim=obs['image'].shape, action_dim=4, goalcond=True, \n",
    "            device=device, memory=memory)"
   ]
  },
  {
   "cell_type": "code",
   "execution_count": null,
   "metadata": {},
   "outputs": [],
   "source": []
  },
  {
   "cell_type": "code",
   "execution_count": 392,
   "metadata": {},
   "outputs": [],
   "source": [
    "task = FourRoomsTask(task_type='preset', \n",
    "                     agent_ini_pos=(12,12),\n",
    "                     goal_pos=(9,13),\n",
    "                     reward_type='sparse', \n",
    "                     goalcond=True, \n",
    "                     seed=32)\n",
    "# task.set_phase('test')\n",
    "obs = task.reset()"
   ]
  },
  {
   "cell_type": "code",
   "execution_count": 14,
   "metadata": {},
   "outputs": [],
   "source": [
    "task = task.clone()\n",
    "obs = task.reset()"
   ]
  },
  {
   "cell_type": "code",
   "execution_count": 51,
   "metadata": {},
   "outputs": [
    {
     "name": "stdout",
     "output_type": "stream",
     "text": [
      "-1.0 False\n"
     ]
    }
   ],
   "source": [
    "# 0-left, 1-down, 2-right, 3-up\n",
    "obs, r, done, _ = task.step(2)\n",
    "print(r, done)"
   ]
  },
  {
   "cell_type": "code",
   "execution_count": 391,
   "metadata": {},
   "outputs": [
    {
     "data": {
      "text/plain": [
       "Text(0.5, 1.0, 'goal')"
      ]
     },
     "execution_count": 391,
     "metadata": {},
     "output_type": "execute_result"
    },
    {
     "data": {
      "image/png": "[encoded data removed]",
      "text/plain": [
       "<Figure size 432x288 with 2 Axes>"
      ]
     },
     "metadata": {
      "needs_background": "light"
     },
     "output_type": "display_data"
    }
   ],
   "source": [
    "fig, axes = plt.subplots(1,2)\n",
    "axes[0].imshow(obs['image'][0])\n",
    "axes[1].imshow(obs['goal'][0])\n",
    "axes[0].set_title('start')\n",
    "axes[1].set_title('goal')"
   ]
  },
  {
   "cell_type": "code",
   "execution_count": 393,
   "metadata": {},
   "outputs": [
    {
     "data": {
      "text/plain": [
       "({'image': array([[[1, 1, 1, 1, 1, 1, 1, 1, 1, 1, 1, 1, 1, 1, 1, 1, 1, 1, 1],\n",
       "          [1, 0, 0, 0, 0, 0, 0, 0, 0, 1, 0, 0, 0, 0, 0, 0, 0, 0, 1],\n",
       "          [1, 0, 0, 0, 0, 0, 0, 0, 0, 1, 0, 0, 0, 0, 0, 0, 0, 0, 1],\n",
       "          [1, 0, 0, 0, 0, 0, 0, 0, 0, 0, 0, 0, 0, 0, 0, 0, 0, 0, 1],\n",
       "          [1, 0, 0, 0, 0, 0, 0, 0, 0, 1, 0, 0, 0, 0, 0, 0, 0, 0, 1],\n",
       "          [1, 0, 0, 0, 0, 0, 0, 0, 0, 1, 0, 0, 0, 0, 0, 0, 0, 0, 1],\n",
       "          [1, 0, 0, 0, 0, 0, 0, 0, 0, 1, 0, 0, 0, 0, 0, 0, 0, 0, 1],\n",
       "          [1, 0, 0, 0, 0, 0, 0, 0, 0, 1, 0, 0, 0, 0, 0, 0, 0, 0, 1],\n",
       "          [1, 0, 0, 0, 0, 0, 0, 0, 0, 1, 0, 0, 0, 0, 0, 0, 0, 0, 1],\n",
       "          [1, 1, 1, 0, 1, 1, 1, 1, 1, 1, 1, 1, 1, 0, 1, 1, 1, 1, 1],\n",
       "          [1, 0, 0, 0, 0, 0, 0, 0, 0, 1, 0, 0, 0, 0, 0, 0, 0, 0, 1],\n",
       "          [1, 0, 0, 0, 0, 0, 0, 0, 0, 1, 0, 0, 0, 0, 0, 0, 0, 0, 1],\n",
       "          [1, 0, 0, 0, 0, 0, 0, 0, 0, 1, 0, 2, 0, 0, 0, 0, 0, 0, 1],\n",
       "          [1, 0, 0, 0, 0, 0, 0, 0, 0, 1, 0, 0, 0, 0, 0, 0, 0, 0, 1],\n",
       "          [1, 0, 0, 0, 0, 0, 0, 0, 0, 0, 0, 0, 0, 0, 0, 0, 0, 0, 1],\n",
       "          [1, 0, 0, 0, 0, 0, 0, 0, 0, 1, 0, 0, 0, 0, 0, 0, 0, 0, 1],\n",
       "          [1, 0, 0, 0, 0, 0, 0, 0, 0, 1, 0, 0, 0, 0, 0, 0, 0, 0, 1],\n",
       "          [1, 0, 0, 0, 0, 0, 0, 0, 0, 1, 0, 0, 0, 0, 0, 0, 0, 0, 1],\n",
       "          [1, 1, 1, 1, 1, 1, 1, 1, 1, 1, 1, 1, 1, 1, 1, 1, 1, 1, 1]]],\n",
       "        dtype=uint8),\n",
       "  'goal': array([[[1, 1, 1, 1, 1, 1, 1, 1, 1, 1, 1, 1, 1, 1, 1, 1, 1, 1, 1],\n",
       "          [1, 0, 0, 0, 0, 0, 0, 0, 0, 1, 0, 0, 0, 0, 0, 0, 0, 0, 1],\n",
       "          [1, 0, 0, 0, 0, 0, 0, 0, 0, 1, 0, 0, 0, 0, 0, 0, 0, 0, 1],\n",
       "          [1, 0, 0, 0, 0, 0, 0, 0, 0, 0, 0, 0, 0, 0, 0, 0, 0, 0, 1],\n",
       "          [1, 0, 0, 0, 0, 0, 0, 0, 0, 1, 0, 0, 0, 0, 0, 0, 0, 0, 1],\n",
       "          [1, 0, 0, 0, 0, 0, 0, 0, 0, 1, 0, 0, 0, 0, 0, 0, 0, 0, 1],\n",
       "          [1, 0, 0, 0, 0, 0, 0, 0, 0, 1, 0, 0, 0, 0, 0, 0, 0, 0, 1],\n",
       "          [1, 0, 0, 0, 0, 0, 0, 0, 0, 1, 0, 0, 0, 0, 0, 0, 0, 0, 1],\n",
       "          [1, 0, 0, 0, 0, 0, 0, 0, 0, 1, 0, 0, 0, 0, 0, 0, 0, 0, 1],\n",
       "          [1, 1, 1, 0, 1, 1, 1, 1, 1, 1, 1, 1, 1, 2, 1, 1, 1, 1, 1],\n",
       "          [1, 0, 0, 0, 0, 0, 0, 0, 0, 1, 0, 0, 0, 0, 0, 0, 0, 0, 1],\n",
       "          [1, 0, 0, 0, 0, 0, 0, 0, 0, 1, 0, 0, 0, 0, 0, 0, 0, 0, 1],\n",
       "          [1, 0, 0, 0, 0, 0, 0, 0, 0, 1, 0, 0, 0, 0, 0, 0, 0, 0, 1],\n",
       "          [1, 0, 0, 0, 0, 0, 0, 0, 0, 1, 0, 0, 0, 0, 0, 0, 0, 0, 1],\n",
       "          [1, 0, 0, 0, 0, 0, 0, 0, 0, 0, 0, 0, 0, 0, 0, 0, 0, 0, 1],\n",
       "          [1, 0, 0, 0, 0, 0, 0, 0, 0, 1, 0, 0, 0, 0, 0, 0, 0, 0, 1],\n",
       "          [1, 0, 0, 0, 0, 0, 0, 0, 0, 1, 0, 0, 0, 0, 0, 0, 0, 0, 1],\n",
       "          [1, 0, 0, 0, 0, 0, 0, 0, 0, 1, 0, 0, 0, 0, 0, 0, 0, 0, 1],\n",
       "          [1, 1, 1, 1, 1, 1, 1, 1, 1, 1, 1, 1, 1, 1, 1, 1, 1, 1, 1]]],\n",
       "        dtype=uint8),\n",
       "  'mission': 'Reach the goal'},\n",
       " 0.0,\n",
       " False,\n",
       " {})"
      ]
     },
     "execution_count": 393,
     "metadata": {},
     "output_type": "execute_result"
    }
   ],
   "source": [
    "task.step(0)"
   ]
  },
  {
   "cell_type": "code",
   "execution_count": null,
   "metadata": {},
   "outputs": [],
   "source": []
  },
  {
   "cell_type": "code",
   "execution_count": 87,
   "metadata": {},
   "outputs": [
    {
     "data": {
      "text/plain": [
       "0.10168855323143527"
      ]
     },
     "execution_count": 87,
     "metadata": {},
     "output_type": "execute_result"
    }
   ],
   "source": [
    "0.05 + (0.9 - 0.05) * \\\n",
    "    math.exp(-1. * 700 / 250)"
   ]
  },
  {
   "cell_type": "code",
   "execution_count": 369,
   "metadata": {},
   "outputs": [
    {
     "data": {
      "text/plain": [
       "722"
      ]
     },
     "execution_count": 369,
     "metadata": {},
     "output_type": "execute_result"
    }
   ],
   "source": [
    "2*19*19"
   ]
  },
  {
   "cell_type": "code",
   "execution_count": 384,
   "metadata": {},
   "outputs": [],
   "source": [
    "batch = memory.sample(batch_size=3)\n",
    "\n",
    "state_batch = torch.cat(batch.state)\n",
    "goal_batch = torch.cat(batch.goal)"
   ]
  },
  {
   "cell_type": "code",
   "execution_count": 386,
   "metadata": {},
   "outputs": [
    {
     "data": {
      "text/plain": [
       "torch.Size([3, 361])"
      ]
     },
     "execution_count": 386,
     "metadata": {},
     "output_type": "execute_result"
    }
   ],
   "source": [
    "state_batch.view(state_batch.size(0), -1).shape"
   ]
  },
  {
   "cell_type": "code",
   "execution_count": 387,
   "metadata": {},
   "outputs": [
    {
     "data": {
      "text/plain": [
       "torch.Size([3, 722])"
      ]
     },
     "execution_count": 387,
     "metadata": {},
     "output_type": "execute_result"
    }
   ],
   "source": [
    "torch.cat((state_batch.view(state_batch.size(0), -1), state_batch.view(goal_batch.size(0), -1)), dim=-1).shape"
   ]
  },
  {
   "cell_type": "code",
   "execution_count": null,
   "metadata": {},
   "outputs": [],
   "source": []
  },
  {
   "cell_type": "markdown",
   "metadata": {},
   "source": [
    "#### memory related stuff"
   ]
  },
  {
   "cell_type": "code",
   "execution_count": 2,
   "metadata": {},
   "outputs": [],
   "source": [
    "from collections import deque, namedtuple"
   ]
  },
  {
   "cell_type": "code",
   "execution_count": 214,
   "metadata": {},
   "outputs": [],
   "source": [
    "task = FourRoomsTask(task_type='ti-2', \n",
    "                     reward_type='sparse2', \n",
    "                     goalcond=True, \n",
    "                     seed=32)\n",
    "ra = RandomAgent(4)"
   ]
  },
  {
   "cell_type": "code",
   "execution_count": 215,
   "metadata": {},
   "outputs": [],
   "source": [
    "obs = task.reset()"
   ]
  },
  {
   "cell_type": "code",
   "execution_count": 216,
   "metadata": {},
   "outputs": [
    {
     "data": {
      "text/plain": [
       "Text(0.5, 1.0, 'goal')"
      ]
     },
     "execution_count": 216,
     "metadata": {},
     "output_type": "execute_result"
    },
    {
     "data": {
      "image/png": "[encoded data removed]",
      "text/plain": [
       "<Figure size 432x288 with 2 Axes>"
      ]
     },
     "metadata": {
      "needs_background": "light"
     },
     "output_type": "display_data"
    }
   ],
   "source": [
    "fig, axes = plt.subplots(1,2)\n",
    "axes[0].imshow(obs['image'][0])\n",
    "axes[1].imshow(obs['goal'][0])\n",
    "axes[0].set_title('start')\n",
    "axes[1].set_title('goal')"
   ]
  },
  {
   "cell_type": "code",
   "execution_count": 354,
   "metadata": {},
   "outputs": [],
   "source": [
    "memory = ReplayBuffer(num_slot=6)"
   ]
  },
  {
   "cell_type": "code",
   "execution_count": 355,
   "metadata": {},
   "outputs": [],
   "source": [
    "# collect some random transitions for prototyping\n",
    "\n",
    "obs = task.reset()\n",
    "state = torch.from_numpy(obs['image'].astype(np.float32)).unsqueeze(0)\n",
    "goal = torch.from_numpy(obs['goal'].astype(np.float32)).unsqueeze(0)\n",
    "\n",
    "for _ in range(6):\n",
    "    \n",
    "    action = ra.step(state)\n",
    "    next_obs, reward, done, _ = task.step(action)\n",
    "    next_state = torch.from_numpy(next_obs['image'].astype(np.float32)).unsqueeze(0)\n",
    "    # goal shouldn't change within an episode\n",
    "    reward = torch.tensor([reward], dtype=torch.float)\n",
    "\n",
    "    if done:\n",
    "        next_state = None\n",
    "\n",
    "    memory.add(state, action, reward, next_state, goal)\n",
    "    if done:\n",
    "        obs = task.reset()\n",
    "        state = torch.from_numpy(obs['image'].astype(np.float32)).unsqueeze(0)\n",
    "        goal = torch.from_numpy(obs['goal'].astype(np.float32)).unsqueeze(0)\n",
    "    else:\n",
    "        state = next_state"
   ]
  },
  {
   "cell_type": "code",
   "execution_count": 356,
   "metadata": {},
   "outputs": [
    {
     "data": {
      "text/plain": [
       "6"
      ]
     },
     "execution_count": 356,
     "metadata": {},
     "output_type": "execute_result"
    }
   ],
   "source": [
    "len(memory)"
   ]
  },
  {
   "cell_type": "code",
   "execution_count": 724,
   "metadata": {},
   "outputs": [],
   "source": [
    "class AttractorNetwork:\n",
    "    \n",
    "    '''\n",
    "    instance-based memory with recurrent computations\n",
    "    onehot memory code can be used as key to another memory storage\n",
    "    '''\n",
    "    \n",
    "    def __init__(self, \n",
    "                 hidden_size, \n",
    "                 state_size,\n",
    "                 raw_excite_weight=1.0,\n",
    "                 raw_inhibit_weight=0.0,\n",
    "                 weight_scale=1.0,\n",
    "                 i_tau=0.1, \n",
    "                 h_tau=0.04, \n",
    "                 h_C=0., \n",
    "                 lmda=0.5, \n",
    "                 ext=0.2):\n",
    "        \n",
    "        self.hidden_size = hidden_size\n",
    "        self.state_size = state_size\n",
    "        \n",
    "        self.weight_scale = weight_scale # class hyperparam?\n",
    "        self.excite = raw_excite_weight * self.weight_scale\n",
    "        self.inhibit = raw_inhibit_weight * self.weight_scale\n",
    "        \n",
    "        self.i_tau = i_tau\n",
    "        self.h_tau = h_tau\n",
    "        self.h_C = h_C\n",
    "        self.lmda = lmda\n",
    "        self.ext = ext\n",
    "        \n",
    "        self.weights = {\n",
    "            's2h':np.zeros((self.state_size, self.hidden_size)),\n",
    "            'h2s':np.zeros((self.hidden_size, self.state_size)),\n",
    "            'ns2h':np.zeros((self.state_size, self.hidden_size)),\n",
    "            'h2ns':np.zeros((self.hidden_size, self.state_size)),\n",
    "        }\n",
    "        \n",
    "        self.netin_buffer = {\n",
    "            's':np.zeros((1, self.state_size)),\n",
    "            'ns':np.zeros((1, self.state_size)),\n",
    "            'h':np.zeros((1, self.hidden_size))\n",
    "        }\n",
    "    \n",
    "    def update_weights(self, weight_dict_key, pre_index, post_index, mode='add'):\n",
    "        # add or remove a specific weight between state and link\n",
    "        # pre_index indicates the node whose outgoing weights are being updated\n",
    "        # post_index indicates the node whose incoming weights are being updated\n",
    "        new_weights = self.weights[weight_dict_key][pre_index]\n",
    "\n",
    "        if mode == 'add':\n",
    "            new_weights[post_index] = self.excite\n",
    "            # update zero weights to inhibitory\n",
    "            new_weights[new_weights==0.0] = self.inhibit\n",
    "\n",
    "        elif mode == 'del':\n",
    "            new_weights[post_index] = inhibit\n",
    "            # if no more excitatory connections change all weights to zero\n",
    "            if sum(new_weights==excite) == 0:\n",
    "                new_weights = np.zeros(len(new_weights))\n",
    "\n",
    "        self.weights[weight_dict_key][pre_index] = new_weights\n",
    "\n",
    "    def i_activation(self, netin):\n",
    "        # logistic\n",
    "        # return np.array([1/(1+np.exp(-x/self.i_tau)) for x in netin])\n",
    "        # softmax\n",
    "        denom = np.sum([np.exp(x/self.i_tau) for x in netin])\n",
    "        return np.array([np.exp(x/self.i_tau)/denom for x in netin])\n",
    "\n",
    "    def h_activation(self, netin):\n",
    "        # hedge softmax\n",
    "        denom = self.h_C**(1/self.h_tau) + np.sum([np.exp(x/self.h_tau) for x in netin])\n",
    "        return np.array([np.exp(x/self.h_tau)/denom for x in netin])\n",
    "\n",
    "    def forward(self, s_in=None, ns_in=None):\n",
    "        \n",
    "        s_in = s_in if s_in is not None else np.zeros((1,self.state_size))\n",
    "        ns_in = ns_in if ns_in is not None else np.zeros((1,self.state_size))\n",
    "\n",
    "        snetin = np.dot(self.h_activation(self.netin_buffer['h']),self.weights['h2s']) + self.ext*s_in\n",
    "        snetin = self.lmda*(snetin) + (1-self.lmda)*self.netin_buffer['s']\n",
    "        nsnetin = np.dot(self.h_activation(self.netin_buffer['h']),self.weights['h2ns']) + self.ext*ns_in\n",
    "        nsnetin = self.lmda*(nsnetin) + (1-self.lmda)*self.netin_buffer['ns']\n",
    "        hnetin = np.dot(self.i_activation(snetin),self.weights['s2h']) + np.dot(self.i_activation(nsnetin),self.weights['ns2h'])\n",
    "        hnetin = self.lmda*(hnetin) + (1-self.lmda)*self.netin_buffer['h']\n",
    "\n",
    "        # update netin buffer\n",
    "        self.netin_buffer['s'] = snetin\n",
    "        self.netin_buffer['ns'] = nsnetin\n",
    "        self.netin_buffer['h'] = hnetin\n",
    "\n",
    "        # compute activation\n",
    "        sact = self.i_activation(snetin)\n",
    "        nsact = self.i_activation(nsnetin)\n",
    "        hact = self.h_activation(hnetin)\n",
    "\n",
    "        return sact, nsact, hact\n",
    "    \n",
    "    def clean_buffer(self):\n",
    "        self.netin_buffer = {\n",
    "            's':np.zeros((1, self.state_size)),\n",
    "            'ns':np.zeros((1, self.state_size)),\n",
    "            'h':np.zeros((1, self.hidden_size))\n",
    "        }\n",
    "    \n",
    "    def clone(self):\n",
    "        x = AttractorNetwork(hidden_size=self.hidden_size, \n",
    "                             state_size=self.state_size, \n",
    "                             weight_scale=self.weight_scale,\n",
    "                             i_tau=self.i_tau, \n",
    "                             h_tau=self.h_tau, \n",
    "                             h_C=self.h_C, \n",
    "                             lmda=self.lmda, \n",
    "                             ext=self.ext)\n",
    "        x.weights = self.weights.copy()\n",
    "        return x"
   ]
  },
  {
   "cell_type": "code",
   "execution_count": 756,
   "metadata": {},
   "outputs": [],
   "source": [
    "Linked = namedtuple('Linked', ('state1', 'state2', 'step'))\n",
    "\n",
    "class RemergeMemory(ReplayBuffer):\n",
    "    \n",
    "    '''\n",
    "    wrapper for remerge, maintains memory content storages for state and hidden layers\n",
    "    '''\n",
    "    \n",
    "    def __init__(self,\n",
    "                 num_slot=10000,\n",
    "                 batch_size=32,\n",
    "                 hidden_size=1000, \n",
    "                 state_size=1000,\n",
    "                 **kwargs):\n",
    "        \n",
    "        # self.memory is inherited from super, functions as the default batch sampling buffer\n",
    "        # self.remerge is the memory network that does recurrent computation on onehot memory keys\n",
    "        # self.states, next_states, and links are the corresponding content storage for self.remerge\n",
    "        \n",
    "        super().__init__(num_slot=num_slot, batch_size=batch_size)\n",
    "        \n",
    "        self.hidden_size = hidden_size\n",
    "        self.state_size = state_size\n",
    "        \n",
    "        self.attractor_network = AttractorNetwork(hidden_size, state_size, **kwargs)\n",
    "        self.states = deque()\n",
    "        self.next_states = deque()\n",
    "        self.links = deque()\n",
    "    \n",
    "    def add(self, state, action, reward, next_state, goal=None):\n",
    "        super().add(state, action, reward, next_state, goal=None)\n",
    "        \n",
    "        # the incoming states are [B, C, H, W] tensors\n",
    "        # convert to [C, H, W] np arrays\n",
    "        # TODO: but don't forget to convert back!\n",
    "        state = state.detach().numpy()[0]\n",
    "        next_state = next_state.detach().numpy()[0]\n",
    "        \n",
    "        step = 1 # new links are always 1-step transitions\n",
    "        new_link = Linked(*(state, next_state, step))\n",
    "\n",
    "        if self.find_link(self.links, new_link) != -1:\n",
    "            # memory link exists, don't need to adjust memory network weights\n",
    "            return\n",
    "\n",
    "        # TODO: maintain num_slots in all of (links, states, next_states)\n",
    "        # TODO: when memory is freed up need to update weights\n",
    "        \n",
    "        # assuming implementation is correct, effective length of\n",
    "        # states and next_states will always be <= links, so\n",
    "        # we only need to check link capacity and free things accordingly\n",
    "        if len(self.links) > self.hidden_size:\n",
    "            pass\n",
    "\n",
    "        self.links.append(new_link)\n",
    "        link_index = len(self.links)-1\n",
    "\n",
    "        state_index = self.find_state(self.states, state)\n",
    "        if state_index == -1:\n",
    "            self.states.append(state)\n",
    "            state_index = len(self.states)-1\n",
    "\n",
    "        next_state_index = self.find_state(self.next_states, next_state)\n",
    "        if next_state_index == -1:\n",
    "            self.next_states.append(next_state)\n",
    "            next_state_index = len(self.next_states)-1\n",
    "\n",
    "        # construct new weights as memory comes in\n",
    "        self.attractor_network.update_weights('s2h', pre_index=state_index, post_index=link_index, mode='add')\n",
    "        self.attractor_network.update_weights('h2s', pre_index=link_index, post_index=state_index, mode='add')\n",
    "        self.attractor_network.update_weights('ns2h', pre_index=next_state_index, post_index=link_index, mode='add')\n",
    "        self.attractor_network.update_weights('h2ns', pre_index=link_index, post_index=next_state_index, mode='add')\n",
    "    \n",
    "    def plan(self, s_probe=None, ns_probe=None, plan_steps=4, T=200, mode='max'):\n",
    "        \n",
    "        # plan_steps needs to be >=1\n",
    "        # probes are in memory content space (e.g. [C,H,W])\n",
    "        # ns_probe is goal state\n",
    "        # self.attractor_network.forward can take None inputs\n",
    "        # if plan_steps==0 one of s_probe and ns_probe better be None\n",
    "        # T better be > 10\n",
    "        # mode=='max': select state corresponding to max activation\n",
    "        # mode=='sample': select state based on softmax activation as probabilities\n",
    "        \n",
    "        if s_probe is None and ns_probe is None:\n",
    "            print(\"what do you want from meee??\")\n",
    "            return []\n",
    "        \n",
    "        # turn probes into keys\n",
    "        \n",
    "        s_index = self.find_state(self.states, s_probe) if s_probe is not None else -1\n",
    "        s_in = self.index_to_onehot(s_index, self.state_size) if s_index != -1 else None\n",
    "        ns_index = self.find_state(self.next_states, ns_probe) if ns_probe is not None else -1\n",
    "        ns_in = self.index_to_onehot(ns_index, self.state_size) if ns_index != -1 else None\n",
    "        \n",
    "        print('s_in: ', s_in)\n",
    "        print('ns_in: ', ns_in)\n",
    "        \n",
    "        if plan_steps==0:\n",
    "            # just activate the linked memories, no multiple copies needed\n",
    "            n = self.attractor_network.clone()\n",
    "            \n",
    "            for t in range(T):\n",
    "                sact, nsact, hact = n.forward(s_in=s_in, ns_in=ns_in)\n",
    "            \n",
    "            if ns_probe is None:\n",
    "                plan_indexes = self.activation_to_indexes(nsact, mode=mode)\n",
    "                plan_keys = [self.index_to_onehot(ind, self.state_size) for ind in plan_indexes]\n",
    "                plan = [self.retrieve_instance(self.next_states, key) for key in plan_keys]\n",
    "            else: # hopefully s_probe is None:\n",
    "                plan_indexes = self.activation_to_indexes(sact, mode=mode)\n",
    "                plan_keys = [self.index_to_onehot(ind, self.state_size) for ind in plan_indexes]\n",
    "                plan = [self.retrieve_instance(self.states, key) for key in plan_keys]\n",
    "            return plan\n",
    "\n",
    "        # make copies of the attractor network\n",
    "        sub_networks = [self.attractor_network.clone() for _ in range(plan_steps+1)]\n",
    "        \n",
    "        activation_buffer = {'sact': np.zeros((len(sub_networks), self.state_size)),\n",
    "                             'nsact':np.zeros((len(sub_networks), self.state_size)),\n",
    "                             'hact':np.zeros((len(sub_networks), self.hidden_size))}\n",
    "        \n",
    "        # insert probes\n",
    "        print('injecting s_in and ns_in...')\n",
    "        for t in range(1):\n",
    "            print('\\t s_in=', s_in, '\\n\\t ns_in=', ns_in)\n",
    "            sact, nsact, hact = sub_networks[0].forward(s_in=s_in)\n",
    "            activation_buffer['sact'][0] = sact\n",
    "            activation_buffer['nsact'][0] = nsact\n",
    "            activation_buffer['hact'][0] = hact\n",
    "            sact, nsact, hact = sub_networks[-1].forward(ns_in=ns_in)\n",
    "            activation_buffer['sact'][-1] = sact\n",
    "            activation_buffer['nsact'][-1] = nsact\n",
    "            activation_buffer['hact'][-1] = hact\n",
    "        \n",
    "        print(['%.2f' % x for x in activation_buffer['sact'][0]])\n",
    "        print(['%.2f' % x for x in activation_buffer['hact'][0]])\n",
    "        print(['%.2f' % x for x in activation_buffer['nsact'][0]])\n",
    "        \n",
    "        print('run recurrent computation...')\n",
    "        \n",
    "        # run recurrent computation and settle (?) on plan\n",
    "        # TODO: check convergence?\n",
    "        # keep injecting s_in and ns_in at both ends\n",
    "        for t in range(T):\n",
    "            \n",
    "            # propogate from state to goal\n",
    "            for i in range(len(sub_networks)):\n",
    "                if i==0:\n",
    "                    s = s_in\n",
    "                    ns = None # activation_buffer['sact'][i+1]\n",
    "                elif i==len(sub_networks)-1:\n",
    "                    s = None # activation_buffer['nsact'][i-1]\n",
    "                    ns = ns_in\n",
    "                else:\n",
    "                    s = activation_buffer['nsact'][i-1] # next state from last sub network\n",
    "                    ns = activation_buffer['sact'][i+1] # state from next sub network\n",
    "                \n",
    "                sact, nsact, hact = sub_networks[i].forward(s_in=s, ns_in=ns)\n",
    "                activation_buffer['sact'][i] = sact\n",
    "                activation_buffer['nsact'][i] = nsact\n",
    "                activation_buffer['hact'][i] = hact\n",
    "            \n",
    "            # propogate from goal back to state\n",
    "            for i in reversed(range(len(sub_networks))):\n",
    "                if i==len(sub_networks)-1:\n",
    "                    s = None # activation_buffer['nsact'][i-1]\n",
    "                    ns = ns_in\n",
    "                elif i==0:\n",
    "                    s = s_in\n",
    "                    ns = None # activation_buffer['sact'][i+1]\n",
    "                else:\n",
    "                    s = activation_buffer['nsact'][i-1] # next state from last sub network\n",
    "                    ns = activation_buffer['sact'][i+1] # state from next sub network\n",
    "                    \n",
    "                sact, nsact, hact = sub_networks[i].forward(s_in=s, ns_in=ns)\n",
    "                activation_buffer['sact'][i] = sact\n",
    "                activation_buffer['nsact'][i] = nsact\n",
    "                activation_buffer['hact'][i] = hact\n",
    "            \n",
    "            print(['%.2f' % x for x in activation_buffer['sact'][0]])\n",
    "            print(['%.2f' % x for x in activation_buffer['hact'][0]])\n",
    "            print(['%.2f' % x for x in activation_buffer['nsact'][0]])\n",
    "            print()\n",
    "        \n",
    "        # form plan\n",
    "        plan_indexes = self.activation_to_indexes(activation_buffer['nsact'][:-1], mode=mode)\n",
    "        print(plan_indexes)\n",
    "        plan_keys = [self.index_to_onehot(ind, self.state_size) for ind in plan_indexes]\n",
    "        # retrieve content from memory\n",
    "        plan = [self.retrieve_instance(self.next_states, key) for key in plan_keys]\n",
    "\n",
    "        return plan\n",
    "    \n",
    "    def activation_to_indexes(self, activation, mode='max'):\n",
    "        # activations is shape [B, state_size]\n",
    "        print(activation)\n",
    "        if mode=='max':\n",
    "            plan_indexes = np.argmax(activation, axis=-1)\n",
    "        elif mode=='sample':\n",
    "            plan_indexes = list(map(self.sample_state, activation))\n",
    "        return plan_indexes\n",
    "    \n",
    "    def sample_state(self, probs):\n",
    "        print(probs)\n",
    "        # in case there is a tie\n",
    "        elements = list(range(self.state_size))\n",
    "        return np.random.choice(elements, 1, p=probs)[0]\n",
    "\n",
    "    def find_link(self, links, link):\n",
    "        # finds first instance of same link in links else -1\n",
    "        for i, x in enumerate(links):\n",
    "            checks = [np.array_equal(getattr(x, f), getattr(link, f)) for f in x._fields]\n",
    "            if sum(checks) == len(checks):\n",
    "                return i\n",
    "        return -1\n",
    "\n",
    "    def find_state(self, states, state):\n",
    "        # finds first instance of state in states else -1\n",
    "        checks = [np.array_equal(x, state) for x in states]\n",
    "        if sum(checks)==0:\n",
    "            return -1\n",
    "        else:\n",
    "            return checks.index(True)\n",
    "\n",
    "    def retrieve_instance(self, memory, onehot_key):\n",
    "        # works for both link and state storages\n",
    "        if len(np.unique(onehot_key))!=2 or (sum(onehot_key) > 1):\n",
    "            # okay this isn't the perfect check but...\n",
    "            raise ValueError('invalid memory key!')\n",
    "        return memory[self.onehot_to_index(onehot_key)]\n",
    "\n",
    "    def onehot_to_index(self, onehot):\n",
    "        return np.where(onehot==1)[0][0]\n",
    "\n",
    "    def index_to_onehot(self, i, length):\n",
    "        key = np.zeros(length)\n",
    "        key[i] = 1.\n",
    "        return key"
   ]
  },
  {
   "cell_type": "code",
   "execution_count": 246,
   "metadata": {},
   "outputs": [],
   "source": [
    "def find_all_ns(s):\n",
    "    x = []\n",
    "    for l in rmm.links:\n",
    "        if np.array_equal(s, l.state1):\n",
    "            x.append(rmm.find_state(rmm.next_states, l.state2))\n",
    "    return x"
   ]
  },
  {
   "cell_type": "code",
   "execution_count": 247,
   "metadata": {},
   "outputs": [
    {
     "data": {
      "text/plain": [
       "[]"
      ]
     },
     "execution_count": 247,
     "metadata": {},
     "output_type": "execute_result"
    }
   ],
   "source": [
    "find_all_ns(s)"
   ]
  },
  {
   "cell_type": "code",
   "execution_count": null,
   "metadata": {},
   "outputs": [],
   "source": []
  },
  {
   "cell_type": "code",
   "execution_count": 757,
   "metadata": {},
   "outputs": [],
   "source": [
    "rmm = RemergeMemory(hidden_size=6, state_size=6)\n",
    "for x in memory.memory:\n",
    "    rmm.add(x.state, x.action, x.reward, x.next_state, x.goal)"
   ]
  },
  {
   "cell_type": "code",
   "execution_count": 758,
   "metadata": {},
   "outputs": [
    {
     "name": "stdout",
     "output_type": "stream",
     "text": [
      "6\n",
      "4\n",
      "4\n"
     ]
    }
   ],
   "source": [
    "print(len(rmm.links))\n",
    "print(len(rmm.states))\n",
    "print(len(rmm.next_states))"
   ]
  },
  {
   "cell_type": "code",
   "execution_count": 759,
   "metadata": {},
   "outputs": [
    {
     "name": "stdout",
     "output_type": "stream",
     "text": [
      "link 0:  0 --> 0\n",
      "link 1:  1 --> 1\n",
      "link 2:  0 --> 1\n",
      "link 3:  0 --> 2\n",
      "link 4:  2 --> 3\n",
      "link 5:  3 --> 0\n"
     ]
    }
   ],
   "source": [
    "for i, l in enumerate(rmm.links):\n",
    "    print('link %d'%i, end=':  ')\n",
    "    s = l.state1\n",
    "    ns = l.state2\n",
    "    print(rmm.find_state(rmm.states, s), '-->', rmm.find_state(rmm.next_states, ns))"
   ]
  },
  {
   "cell_type": "code",
   "execution_count": 760,
   "metadata": {},
   "outputs": [],
   "source": [
    "s = rmm.links[0].state1\n",
    "ns = rmm.links[4].state2"
   ]
  },
  {
   "cell_type": "code",
   "execution_count": 761,
   "metadata": {},
   "outputs": [
    {
     "name": "stdout",
     "output_type": "stream",
     "text": [
      "s_in:  [1. 0. 0. 0. 0. 0.]\n",
      "ns_in:  [0. 0. 0. 1. 0. 0.]\n",
      "injecting s_in and ns_in...\n",
      "\t s_in= [1. 0. 0. 0. 0. 0.] \n",
      "\t ns_in= [0. 0. 0. 1. 0. 0.]\n",
      "['0.79', '0.05', '0.05', '0.05', '0.02', '0.02']\n",
      "['0.47', '0.00', '0.47', '0.05', '0.00', '0.00']\n",
      "['0.31', '0.31', '0.13', '0.13', '0.06', '0.06']\n",
      "run recurrent computation...\n",
      "['1.00', '0.00', '0.00', '0.00', '0.00', '0.00']\n",
      "['0.50', '0.00', '0.50', '0.00', '0.00', '0.00']\n",
      "['0.48', '0.48', '0.01', '0.01', '0.01', '0.01']\n",
      "\n",
      "['1.00', '0.00', '0.00', '0.00', '0.00', '0.00']\n",
      "['0.50', '0.00', '0.50', '0.00', '0.00', '0.00']\n",
      "['0.49', '0.49', '0.00', '0.00', '0.00', '0.00']\n",
      "\n",
      "['1.00', '0.00', '0.00', '0.00', '0.00', '0.00']\n",
      "['0.50', '0.00', '0.50', '0.00', '0.00', '0.00']\n",
      "['0.49', '0.49', '0.00', '0.00', '0.00', '0.00']\n",
      "\n",
      "['1.00', '0.00', '0.00', '0.00', '0.00', '0.00']\n",
      "['0.50', '0.00', '0.50', '0.00', '0.00', '0.00']\n",
      "['0.49', '0.49', '0.00', '0.00', '0.00', '0.00']\n",
      "\n",
      "['1.00', '0.00', '0.00', '0.00', '0.00', '0.00']\n",
      "['0.50', '0.00', '0.50', '0.00', '0.00', '0.00']\n",
      "['0.49', '0.49', '0.00', '0.00', '0.00', '0.00']\n",
      "\n",
      "['1.00', '0.00', '0.00', '0.00', '0.00', '0.00']\n",
      "['0.50', '0.00', '0.50', '0.00', '0.00', '0.00']\n",
      "['0.49', '0.49', '0.00', '0.00', '0.00', '0.00']\n",
      "\n",
      "[[0.49334484 0.49334484 0.00332832 0.00332778 0.00332711 0.00332711]]\n",
      "[0.49334484 0.49334484 0.00332832 0.00332778 0.00332711 0.00332711]\n",
      "[0]\n"
     ]
    }
   ],
   "source": [
    "plan = rmm.plan(s_probe=s, ns_probe=ns, plan_steps=1, T=6, mode='sample')"
   ]
  },
  {
   "cell_type": "code",
   "execution_count": null,
   "metadata": {},
   "outputs": [],
   "source": []
  },
  {
   "cell_type": "code",
   "execution_count": null,
   "metadata": {},
   "outputs": [],
   "source": []
  },
  {
   "cell_type": "code",
   "execution_count": 196,
   "metadata": {},
   "outputs": [
    {
     "data": {
      "text/plain": [
       "(1, 19, 19)"
      ]
     },
     "execution_count": 196,
     "metadata": {},
     "output_type": "execute_result"
    }
   ],
   "source": [
    "plan[0].shape"
   ]
  },
  {
   "cell_type": "code",
   "execution_count": 197,
   "metadata": {},
   "outputs": [
    {
     "data": {
      "text/plain": [
       "<matplotlib.image.AxesImage at 0x7f6756a1e490>"
      ]
     },
     "execution_count": 197,
     "metadata": {},
     "output_type": "execute_result"
    },
    {
     "data": {
      "image/png": "[encoded data removed]",
      "text/plain": [
       "<Figure size 432x288 with 2 Axes>"
      ]
     },
     "metadata": {
      "needs_background": "light"
     },
     "output_type": "display_data"
    }
   ],
   "source": [
    "fig, axes = plt.subplots(1,2)\n",
    "axes[0].imshow(s[0])\n",
    "axes[1].imshow(ns[0])"
   ]
  },
  {
   "cell_type": "code",
   "execution_count": 198,
   "metadata": {},
   "outputs": [
    {
     "data": {
      "text/plain": [
       "<matplotlib.image.AxesImage at 0x7f67568e1910>"
      ]
     },
     "execution_count": 198,
     "metadata": {},
     "output_type": "execute_result"
    },
    {
     "data": {
      "image/png": "[encoded data removed]",
      "text/plain": [
       "<Figure size 432x288 with 2 Axes>"
      ]
     },
     "metadata": {
      "needs_background": "light"
     },
     "output_type": "display_data"
    }
   ],
   "source": [
    "fig, axes = plt.subplots(1,2)\n",
    "axes[0].imshow(s[0])\n",
    "axes[1].imshow(plan[0][0])"
   ]
  },
  {
   "cell_type": "code",
   "execution_count": null,
   "metadata": {},
   "outputs": [],
   "source": []
  }
 ],
 "metadata": {
  "kernelspec": {
   "display_name": "py37",
   "language": "python",
   "name": "py37"
  },
  "language_info": {
   "codemirror_mode": {
    "name": "ipython",
    "version": 3
   },
   "file_extension": ".py",
   "mimetype": "text/x-python",
   "name": "python",
   "nbconvert_exporter": "python",
   "pygments_lexer": "ipython3",
   "version": "3.7.6"
  }
 },
 "nbformat": 4,
 "nbformat_minor": 4
}
